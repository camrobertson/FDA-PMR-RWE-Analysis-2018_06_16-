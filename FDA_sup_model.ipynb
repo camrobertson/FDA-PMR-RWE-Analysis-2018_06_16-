{
  "nbformat": 4,
  "nbformat_minor": 0,
  "metadata": {
    "colab": {
      "name": "FDA_sup_model.ipynb",
      "version": "0.3.2",
      "provenance": [],
      "include_colab_link": true
    },
    "kernelspec": {
      "name": "python3",
      "display_name": "Python 3"
    }
  },
  "cells": [
    {
      "cell_type": "markdown",
      "metadata": {
        "id": "view-in-github",
        "colab_type": "text"
      },
      "source": [
        "<a href=\"https://colab.research.google.com/github/camrobertson/FDA-PMR-RWE-Analysis-2018_06_16-/blob/master/FDA_sup_model.ipynb\" target=\"_parent\"><img src=\"https://colab.research.google.com/assets/colab-badge.svg\" alt=\"Open In Colab\"/></a>"
      ]
    },
    {
      "cell_type": "markdown",
      "metadata": {
        "id": "R_IYhsC4Rdr_",
        "colab_type": "text"
      },
      "source": [
        "ML analysis to predict timing/nature of supplements following BLA/NDA submission\n",
        "\n",
        "Input from drugs@fda.com\n",
        "Highlight variables BLA/NDA, Date of Submission,, Therapeutic Area (review division), priority review, breakthrough therapy, accelerated approval\n",
        "See what happens (start w/ RFS)"
      ]
    },
    {
      "cell_type": "code",
      "metadata": {
        "id": "t3rJ7hGURdNG",
        "colab_type": "code",
        "outputId": "6adab2a4-ec75-4dc8-c85b-f39931fb2d4b",
        "colab": {
          "base_uri": "https://localhost:8080/",
          "height": 136
        }
      },
      "source": [
        "# Install the PyDrive wrapper & import libraries.\n",
        "# This only needs to be done once per notebook.\n",
        "!pip install -U -q PyDrive\n",
        "!pip install sklearn\n",
        "from pydrive.auth import GoogleAuth\n",
        "from pydrive.drive import GoogleDrive\n",
        "from google.colab import auth\n",
        "from google.colab import files\n",
        "from google.colab import drive\n",
        "from oauth2client.client import GoogleCredentials\n",
        "\n",
        "import matplotlib.pyplot as plt\n",
        "import pandas as pd #this is how I usually import pandas\n",
        "import sys #only needed to determine Python version number\n",
        "import matplotlib as mpl #only needed to determine Matplotlib version number\n",
        "import csv"
      ],
      "execution_count": 2,
      "outputs": [
        {
          "output_type": "stream",
          "text": [
            "\u001b[?25l\r\u001b[K     |▎                               | 10kB 15.6MB/s eta 0:00:01\r\u001b[K     |▋                               | 20kB 1.8MB/s eta 0:00:01\r\u001b[K     |█                               | 30kB 2.6MB/s eta 0:00:01\r\u001b[K     |█▎                              | 40kB 1.7MB/s eta 0:00:01\r\u001b[K     |█▋                              | 51kB 2.1MB/s eta 0:00:01\r\u001b[K     |██                              | 61kB 2.5MB/s eta 0:00:01\r\u001b[K     |██▎                             | 71kB 2.9MB/s eta 0:00:01\r\u001b[K     |██▋                             | 81kB 3.3MB/s eta 0:00:01\r\u001b[K     |███                             | 92kB 3.6MB/s eta 0:00:01\r\u001b[K     |███▎                            | 102kB 2.7MB/s eta 0:00:01\r\u001b[K     |███▋                            | 112kB 2.7MB/s eta 0:00:01\r\u001b[K     |████                            | 122kB 2.7MB/s eta 0:00:01\r\u001b[K     |████▎                           | 133kB 2.7MB/s eta 0:00:01\r\u001b[K     |████▋                           | 143kB 2.7MB/s eta 0:00:01\r\u001b[K     |█████                           | 153kB 2.7MB/s eta 0:00:01\r\u001b[K     |█████▎                          | 163kB 2.7MB/s eta 0:00:01\r\u001b[K     |█████▋                          | 174kB 2.7MB/s eta 0:00:01\r\u001b[K     |██████                          | 184kB 2.7MB/s eta 0:00:01\r\u001b[K     |██████▎                         | 194kB 2.7MB/s eta 0:00:01\r\u001b[K     |██████▋                         | 204kB 2.7MB/s eta 0:00:01\r\u001b[K     |███████                         | 215kB 2.7MB/s eta 0:00:01\r\u001b[K     |███████▎                        | 225kB 2.7MB/s eta 0:00:01\r\u001b[K     |███████▋                        | 235kB 2.7MB/s eta 0:00:01\r\u001b[K     |████████                        | 245kB 2.7MB/s eta 0:00:01\r\u001b[K     |████████▎                       | 256kB 2.7MB/s eta 0:00:01\r\u001b[K     |████████▋                       | 266kB 2.7MB/s eta 0:00:01\r\u001b[K     |█████████                       | 276kB 2.7MB/s eta 0:00:01\r\u001b[K     |█████████▎                      | 286kB 2.7MB/s eta 0:00:01\r\u001b[K     |█████████▋                      | 296kB 2.7MB/s eta 0:00:01\r\u001b[K     |██████████                      | 307kB 2.7MB/s eta 0:00:01\r\u001b[K     |██████████▎                     | 317kB 2.7MB/s eta 0:00:01\r\u001b[K     |██████████▋                     | 327kB 2.7MB/s eta 0:00:01\r\u001b[K     |███████████                     | 337kB 2.7MB/s eta 0:00:01\r\u001b[K     |███████████▎                    | 348kB 2.7MB/s eta 0:00:01\r\u001b[K     |███████████▋                    | 358kB 2.7MB/s eta 0:00:01\r\u001b[K     |████████████                    | 368kB 2.7MB/s eta 0:00:01\r\u001b[K     |████████████▎                   | 378kB 2.7MB/s eta 0:00:01\r\u001b[K     |████████████▋                   | 389kB 2.7MB/s eta 0:00:01\r\u001b[K     |█████████████                   | 399kB 2.7MB/s eta 0:00:01\r\u001b[K     |█████████████▎                  | 409kB 2.7MB/s eta 0:00:01\r\u001b[K     |█████████████▋                  | 419kB 2.7MB/s eta 0:00:01\r\u001b[K     |██████████████                  | 430kB 2.7MB/s eta 0:00:01\r\u001b[K     |██████████████▎                 | 440kB 2.7MB/s eta 0:00:01\r\u001b[K     |██████████████▋                 | 450kB 2.7MB/s eta 0:00:01\r\u001b[K     |███████████████                 | 460kB 2.7MB/s eta 0:00:01\r\u001b[K     |███████████████▎                | 471kB 2.7MB/s eta 0:00:01\r\u001b[K     |███████████████▋                | 481kB 2.7MB/s eta 0:00:01\r\u001b[K     |████████████████                | 491kB 2.7MB/s eta 0:00:01\r\u001b[K     |████████████████▎               | 501kB 2.7MB/s eta 0:00:01\r\u001b[K     |████████████████▋               | 512kB 2.7MB/s eta 0:00:01\r\u001b[K     |█████████████████               | 522kB 2.7MB/s eta 0:00:01\r\u001b[K     |█████████████████▎              | 532kB 2.7MB/s eta 0:00:01\r\u001b[K     |█████████████████▋              | 542kB 2.7MB/s eta 0:00:01\r\u001b[K     |██████████████████              | 552kB 2.7MB/s eta 0:00:01\r\u001b[K     |██████████████████▎             | 563kB 2.7MB/s eta 0:00:01\r\u001b[K     |██████████████████▋             | 573kB 2.7MB/s eta 0:00:01\r\u001b[K     |███████████████████             | 583kB 2.7MB/s eta 0:00:01\r\u001b[K     |███████████████████▎            | 593kB 2.7MB/s eta 0:00:01\r\u001b[K     |███████████████████▋            | 604kB 2.7MB/s eta 0:00:01\r\u001b[K     |████████████████████            | 614kB 2.7MB/s eta 0:00:01\r\u001b[K     |████████████████████▎           | 624kB 2.7MB/s eta 0:00:01\r\u001b[K     |████████████████████▋           | 634kB 2.7MB/s eta 0:00:01\r\u001b[K     |█████████████████████           | 645kB 2.7MB/s eta 0:00:01\r\u001b[K     |█████████████████████▎          | 655kB 2.7MB/s eta 0:00:01\r\u001b[K     |█████████████████████▋          | 665kB 2.7MB/s eta 0:00:01\r\u001b[K     |██████████████████████          | 675kB 2.7MB/s eta 0:00:01\r\u001b[K     |██████████████████████▎         | 686kB 2.7MB/s eta 0:00:01\r\u001b[K     |██████████████████████▋         | 696kB 2.7MB/s eta 0:00:01\r\u001b[K     |███████████████████████         | 706kB 2.7MB/s eta 0:00:01\r\u001b[K     |███████████████████████▎        | 716kB 2.7MB/s eta 0:00:01\r\u001b[K     |███████████████████████▋        | 727kB 2.7MB/s eta 0:00:01\r\u001b[K     |████████████████████████        | 737kB 2.7MB/s eta 0:00:01\r\u001b[K     |████████████████████████▎       | 747kB 2.7MB/s eta 0:00:01\r\u001b[K     |████████████████████████▋       | 757kB 2.7MB/s eta 0:00:01\r\u001b[K     |████████████████████████▉       | 768kB 2.7MB/s eta 0:00:01\r\u001b[K     |█████████████████████████▏      | 778kB 2.7MB/s eta 0:00:01\r\u001b[K     |█████████████████████████▌      | 788kB 2.7MB/s eta 0:00:01\r\u001b[K     |█████████████████████████▉      | 798kB 2.7MB/s eta 0:00:01\r\u001b[K     |██████████████████████████▏     | 808kB 2.7MB/s eta 0:00:01\r\u001b[K     |██████████████████████████▌     | 819kB 2.7MB/s eta 0:00:01\r\u001b[K     |██████████████████████████▉     | 829kB 2.7MB/s eta 0:00:01\r\u001b[K     |███████████████████████████▏    | 839kB 2.7MB/s eta 0:00:01\r\u001b[K     |███████████████████████████▌    | 849kB 2.7MB/s eta 0:00:01\r\u001b[K     |███████████████████████████▉    | 860kB 2.7MB/s eta 0:00:01\r\u001b[K     |████████████████████████████▏   | 870kB 2.7MB/s eta 0:00:01\r\u001b[K     |████████████████████████████▌   | 880kB 2.7MB/s eta 0:00:01\r\u001b[K     |████████████████████████████▉   | 890kB 2.7MB/s eta 0:00:01\r\u001b[K     |█████████████████████████████▏  | 901kB 2.7MB/s eta 0:00:01\r\u001b[K     |█████████████████████████████▌  | 911kB 2.7MB/s eta 0:00:01\r\u001b[K     |█████████████████████████████▉  | 921kB 2.7MB/s eta 0:00:01\r\u001b[K     |██████████████████████████████▏ | 931kB 2.7MB/s eta 0:00:01\r\u001b[K     |██████████████████████████████▌ | 942kB 2.7MB/s eta 0:00:01\r\u001b[K     |██████████████████████████████▉ | 952kB 2.7MB/s eta 0:00:01\r\u001b[K     |███████████████████████████████▏| 962kB 2.7MB/s eta 0:00:01\r\u001b[K     |███████████████████████████████▌| 972kB 2.7MB/s eta 0:00:01\r\u001b[K     |███████████████████████████████▉| 983kB 2.7MB/s eta 0:00:01\r\u001b[K     |████████████████████████████████| 993kB 2.7MB/s \n",
            "\u001b[?25h  Building wheel for PyDrive (setup.py) ... \u001b[?25l\u001b[?25hdone\n",
            "Requirement already satisfied: sklearn in /usr/local/lib/python3.6/dist-packages (0.0)\n",
            "Requirement already satisfied: scikit-learn in /usr/local/lib/python3.6/dist-packages (from sklearn) (0.21.2)\n",
            "Requirement already satisfied: scipy>=0.17.0 in /usr/local/lib/python3.6/dist-packages (from scikit-learn->sklearn) (1.3.0)\n",
            "Requirement already satisfied: numpy>=1.11.0 in /usr/local/lib/python3.6/dist-packages (from scikit-learn->sklearn) (1.16.4)\n",
            "Requirement already satisfied: joblib>=0.11 in /usr/local/lib/python3.6/dist-packages (from scikit-learn->sklearn) (0.13.2)\n"
          ],
          "name": "stdout"
        }
      ]
    },
    {
      "cell_type": "code",
      "metadata": {
        "id": "FQje-gZ3Zszg",
        "colab_type": "code",
        "colab": {}
      },
      "source": [
        "# Authenticate and create the PyDrive client.\n",
        "# This only needs to be done once per notebook.\n",
        "# Might be redundant w/ Cell #5\n",
        "#auth.authenticate_user()\n",
        "#gauth = GoogleAuth()\n",
        "#gauth.credentials = GoogleCredentials.get_application_default()\n",
        "#drive = GoogleDrive(gauth)"
      ],
      "execution_count": 0,
      "outputs": []
    },
    {
      "cell_type": "code",
      "metadata": {
        "id": "W4pyxpE96JC8",
        "colab_type": "code",
        "colab": {}
      },
      "source": [
        "from google.colab import drive\n",
        "drive.mount('/content/gdrive')"
      ],
      "execution_count": 0,
      "outputs": []
    },
    {
      "cell_type": "code",
      "metadata": {
        "id": "uSu0DNXzFXp5",
        "colab_type": "code",
        "colab": {}
      },
      "source": [
        "#works to import data\n",
        "Products_df = pd.read_csv('/content/gdrive/My Drive/FDA_data/target/Products.txt', '\\t', low_memory = False, error_bad_lines = False, encoding = \"utf8\")\n",
        "Products_df.describe()\n",
        "#Products_df\n",
        "\n",
        "#works to import data\n",
        "Submissions_df = pd.read_csv('/content/gdrive/My Drive/FDA_data/target/Submissions.txt', '\\t', low_memory = False, error_bad_lines = False, encoding='ISO-8859-1')\n",
        "#Submissions_df.describe()\n",
        "\n",
        "#works to import data\n",
        "Applications_df = pd.read_csv('/content/gdrive/My Drive/FDA_data/target/Applications.txt', '\\t', low_memory = False, error_bad_lines = False, encoding='ISO-8859-1')\n",
        "#Applications_df.describe()"
      ],
      "execution_count": 0,
      "outputs": []
    },
    {
      "cell_type": "markdown",
      "metadata": {
        "id": "qR9wwQ9Wbm0s",
        "colab_type": "text"
      },
      "source": [
        "Submission Type Binary: \n",
        "*   Original Submission = 0\n",
        "*   Supplement = 1\n",
        "\n",
        "Application Type\n",
        "* NDA = 0\n",
        "* BLA = 1\n",
        "\n",
        "ReviewPriority\n",
        "* Standard = 0\n",
        "* Unknown = 0\n",
        "* Priority = 1\n",
        "\n",
        "NaN = 0 Across all\n",
        "\n"
      ]
    },
    {
      "cell_type": "code",
      "metadata": {
        "id": "lheEvCongLiX",
        "colab_type": "code",
        "colab": {}
      },
      "source": [
        "Master_df = Submissions_df.set_index('ApplNo').join(Applications_df.set_index('ApplNo'))\n",
        "Master_df = Master_df[Master_df.ApplType != \"ANDA\"]\n",
        "\n",
        "mask = (Master_df[\"ApplType\"] == \"ANDA\") #remove ANDA applications\n",
        "print (Master_df.loc[mask])"
      ],
      "execution_count": 0,
      "outputs": []
    },
    {
      "cell_type": "code",
      "metadata": {
        "id": "fNGHVQAHT9le",
        "colab_type": "code",
        "colab": {}
      },
      "source": [
        "Master_df['SubmissionType'] = Master_df['SubmissionType'].map({'ORIG': 0, 'SUPPL': 1})\n",
        "Master_df['ApplType'] = Master_df['ApplType'].map({'NDA': 0, 'BLA': 1})\n",
        "Master_df['ReviewPriority'] = Master_df['ReviewPriority'].map({'STANDARD':0, 'UNKNOWN' :0, 'PRIORITY' :1})\n",
        "\n",
        "Master_df.fillna(0, inplace = True)\n",
        "\n",
        "Master_df['ApplType'] = Master_df['ApplType'].astype(int)\n",
        "Master_df['SubmissionClassCodeID'] = Master_df['SubmissionClassCodeID'].astype(int)\n",
        "Master_df['ReviewPriority'] = Master_df['ReviewPriority'].astype(int)\n",
        "#Master_df['SubmissionStatus'] = pd.to_datetime(Master_df['SubmissionStatus'], errors=\"ignore\")"
      ],
      "execution_count": 0,
      "outputs": []
    },
    {
      "cell_type": "code",
      "metadata": {
        "id": "iCPFH-npNpFu",
        "colab_type": "code",
        "colab": {}
      },
      "source": [
        "#reset index of Master Df\n",
        "import numpy as np\n",
        "Master_df['Index'] = np.arange(len(Master_df))\n",
        "Master_df['ApplNo'] = Master_df.index\n",
        "Master_df = Master_df.set_index('Index')\n",
        "Master_df['SubmissionStatusDate'] = pd.to_datetime(Master_df['SubmissionStatusDate']) \n",
        "Master_df"
      ],
      "execution_count": 0,
      "outputs": []
    },
    {
      "cell_type": "markdown",
      "metadata": {
        "id": "lLujZN5KbLS3",
        "colab_type": "text"
      },
      "source": [
        "Select all submissions after PDUFA V ... can rewind this further back if needed."
      ]
    },
    {
      "cell_type": "code",
      "metadata": {
        "colab_type": "code",
        "id": "TKOOa1LXXq0t",
        "colab": {}
      },
      "source": [
        "start_date = '2007-01-01'\n",
        "mask = (Master_df['SubmissionStatusDate'] > start_date)\n",
        "Master_df = Master_df.loc[mask]"
      ],
      "execution_count": 0,
      "outputs": []
    },
    {
      "cell_type": "markdown",
      "metadata": {
        "id": "iWsKheZFbHIe",
        "colab_type": "text"
      },
      "source": [
        "Just a quick peek to see how the submissions played out over time"
      ]
    },
    {
      "cell_type": "code",
      "metadata": {
        "id": "zR8e5uBsXFxd",
        "colab_type": "code",
        "colab": {}
      },
      "source": [
        "import matplotlib.pyplot as plt\n",
        "plt.scatter(Master_df['SubmissionStatusDate'], Master_df['SubmissionClassCodeID'])\n",
        "plt.show()\n"
      ],
      "execution_count": 0,
      "outputs": []
    },
    {
      "cell_type": "markdown",
      "metadata": {
        "id": "tV6UdD4aZh5q",
        "colab_type": "text"
      },
      "source": [
        "Next tasks\n",
        "\n",
        "1.   Determine difference between approval date and submission date\n",
        "2.   Create / select Data sets by submission class code\n",
        "3.   Run model RFS test, see how it goes... ?\n"
      ]
    },
    {
      "cell_type": "code",
      "metadata": {
        "id": "jekzOi-noWcr",
        "colab_type": "code",
        "colab": {}
      },
      "source": [
        "Original_df = Master_df.loc[Master_df['SubmissionType'] == 0, ['ApplNo', 'SubmissionStatusDate']]\n",
        "Original_df = Original_df.rename(columns={\"SubmissionStatusDate\": \"OriginalSubDate\"})\n",
        "Original_df"
      ],
      "execution_count": 0,
      "outputs": []
    },
    {
      "cell_type": "code",
      "metadata": {
        "id": "00hWKGil20Nz",
        "colab_type": "code",
        "colab": {}
      },
      "source": [
        "Master_df = Original_df.merge(Master_df, on=\"ApplNo\", how='right')\n",
        "Master_df['Elapsed_days']= (Master_df['SubmissionStatusDate'] - Master_df['OriginalSubDate']).dt.days\n",
        "Master_df"
      ],
      "execution_count": 0,
      "outputs": []
    },
    {
      "cell_type": "markdown",
      "metadata": {
        "id": "0JQYy8cVSJlK",
        "colab_type": "text"
      },
      "source": [
        "To do - need to reformat the elapsed days into a list associated with each original application. "
      ]
    },
    {
      "cell_type": "code",
      "metadata": {
        "id": "B2fcOR5Dva-n",
        "colab_type": "code",
        "colab": {}
      },
      "source": [
        "#Master_df.SubmissionClassCodeID.describe()\n",
        "pd.Series(Master_df['SubmissionClassCodeID']).value_counts()"
      ],
      "execution_count": 0,
      "outputs": []
    },
    {
      "cell_type": "markdown",
      "metadata": {
        "id": "HUAPjh0ra2X8",
        "colab_type": "text"
      },
      "source": [
        "Create a subset of DF to test against ML\n",
        "Need to bin the elapsed days"
      ]
    },
    {
      "cell_type": "code",
      "metadata": {
        "id": "YKtNKetGY54W",
        "colab_type": "code",
        "colab": {}
      },
      "source": [
        "Testing_df = Master_df[['ApplNo', 'Elapsed_days', 'SubmissionClassCodeID', 'SubmissionType', 'SubmissionNo', 'ReviewPriority', 'ApplType']]\n",
        "Testing_df.head()"
      ],
      "execution_count": 0,
      "outputs": []
    },
    {
      "cell_type": "code",
      "metadata": {
        "id": "rSaCw5vUn_8K",
        "colab_type": "code",
        "colab": {}
      },
      "source": [
        "Testing_df = Testing_df.drop(84, axis=0)\n",
        "Testing_df = Testing_df.drop(1139, axis=0)\n",
        "Testing_df = Testing_df.drop(2122, axis=0)"
      ],
      "execution_count": 0,
      "outputs": []
    },
    {
      "cell_type": "code",
      "metadata": {
        "id": "mAOirl2Wm1r5",
        "colab_type": "code",
        "colab": {}
      },
      "source": [
        "Testing_df[Testing_df.Elapsed_days.astype(int) < 0]"
      ],
      "execution_count": 0,
      "outputs": []
    },
    {
      "cell_type": "markdown",
      "metadata": {
        "id": "sFlItHyIobVm",
        "colab_type": "text"
      },
      "source": [
        "Bining the data in large buckets - \n",
        "pd.cut(np.array([1, 7, 5, 4, 6, 3]),\n",
        "...        3, labels=[\"bad\", \"medium\", \"good\"])\n",
        "[bad, good, medium, medium, good, bad]\n",
        "Categories (3, object): [bad < medium < good]"
      ]
    },
    {
      "cell_type": "code",
      "metadata": {
        "id": "5nJkLWaToa7d",
        "colab_type": "code",
        "colab": {}
      },
      "source": [
        "bins = [-1, 1, 100, 200, 400, 800, 1600, 3200]\n",
        "labels = [0, 1, 2, 3, 4, 5, 6]\n",
        "Testing_df['Binned'] = pd.cut(Testing_df['Elapsed_days'], bins=bins, labels=labels)"
      ],
      "execution_count": 0,
      "outputs": []
    },
    {
      "cell_type": "markdown",
      "metadata": {
        "id": "u6_0t8iSau2l",
        "colab_type": "text"
      },
      "source": [
        "Start of the ML algorithm\n",
        "Predictor Vars are the variables for us to play with down the line."
      ]
    },
    {
      "cell_type": "code",
      "metadata": {
        "id": "tpxI3WKkqNGD",
        "colab_type": "code",
        "colab": {}
      },
      "source": [
        "Testing_df.Binned.describe()\n"
      ],
      "execution_count": 0,
      "outputs": []
    },
    {
      "cell_type": "code",
      "metadata": {
        "id": "n2HFO3eGWJU2",
        "colab_type": "code",
        "colab": {}
      },
      "source": [
        "from sklearn.ensemble import RandomForestClassifier\n",
        "from sklearn.model_selection import train_test_split\n",
        "\n",
        "Testing_df.fillna(0, inplace = True)\n",
        "\n",
        "predictor_vars = ['ApplType', 'SubmissionType', 'SubmissionNo', 'ReviewPriority', 'SubmissionClassCodeID']\n",
        "data, target = Testing_df[predictor_vars], Testing_df.Binned\n",
        "Xtrain, Xtest, ytrain, ytest = train_test_split(data, target, random_state=0)\n",
        "\n",
        "model = RandomForestClassifier(n_estimators=1000)\n",
        "model.fit(Xtrain, ytrain)\n",
        "ypred = model.predict(Xtest)\n",
        " "
      ],
      "execution_count": 0,
      "outputs": []
    },
    {
      "cell_type": "code",
      "metadata": {
        "id": "xNP9JTvai030",
        "colab_type": "code",
        "colab": {}
      },
      "source": [
        "from sklearn import metrics\n",
        "print(metrics.classification_report(ypred, ytest))\n"
      ],
      "execution_count": 0,
      "outputs": []
    },
    {
      "cell_type": "markdown",
      "metadata": {
        "id": "9O96uKsxvZHx",
        "colab_type": "text"
      },
      "source": [
        "#Start Here \n",
        "\n"
      ]
    },
    {
      "cell_type": "markdown",
      "metadata": {
        "id": "7FiLfTmleZQp",
        "colab_type": "text"
      },
      "source": [
        "SubmissionClassCodeID\tSubmissionClassCode\tSubmissionClassCodeDescription\n",
        "\n",
        "1\tBIOEQUIV\tBioequivalence\n",
        "\n",
        "2\tEFFICACY\tEfficacy\n",
        "\n",
        "3\tLABELING\tLabeling\n",
        "\n",
        "4\tMANUF (CMC)\tManufacturing (CMC)\n",
        "\n",
        "5\tN/A\tNot Applicable\n",
        "\n",
        "6\tS\tSupplement\n",
        "\n",
        "7\tTYPE 1\tType 1 - New Molecular Entity\n",
        "\n",
        "8\tTYPE 1/4\tType 1 - New Molecular Entity and Type 4 - New Combination\n",
        "\n",
        "9\tTYPE 2\tType 2 - New Active Ingredient\n",
        "\n",
        "10\tTYPE 2/3\tType 2 - New Active Ingredient and Type 3 - New Dosage Form\n",
        "\n",
        "11\tTYPE 2/4\tType 2 New Active Ingredient and Type 4 New Combination\n",
        "\n",
        "12\tTYPE 3\tType 3 - New Dosage Form\n",
        "\n",
        "13\tTYPE 3/4\tType 3 - New Dosage Form and Type 4 - New Combination\n",
        "\n",
        "14\tTYPE 4\tType 4 - New Combination\n",
        "\n",
        "15\tTYPE 5\tType 5 - New Formulation or New Manufacturer\n",
        "\n",
        "16\tTYPE 6\tType 6 - New Indication (no longer used)\n",
        "\n",
        "17\tTYPE 7\tType 7 - Drug Already Marketed without Approved NDA\n",
        "\n",
        "18\tTYPE 8\tType 8 - Partial Rx to OTC Switch\n",
        "\n",
        "19\tUNKNOWN\t\n",
        "\n",
        "20\tUnspecified\t\n",
        "\n",
        "21\tREMS\tREMS\n",
        "\n",
        "22\tTYPE 10\tType 10 - New Indication Submitted as Distinct NDA - Not Consolidated\n",
        "\n",
        "23\tMEDGAS\tMedical Gas\n",
        "\n",
        "24\tTYPE 9\tType 9 - New Indication Submitted as Distinct NDA, Consolidated with Original NDA after Approval\n",
        "\n",
        "25\tTYPE 9- BLA\tType 9 - New indication submitted as distinct BLA, consolidated\n",
        "\n",
        "\n",
        "\n"
      ]
    },
    {
      "cell_type": "code",
      "metadata": {
        "id": "R8uYitDDWE5v",
        "colab_type": "code",
        "colab": {}
      },
      "source": [
        "list(Master_df.columns)\n",
        "\n",
        "from sklearn.tree import DecisionTreeClassifier\n",
        "tree = DecisionTreeClassifier().fit(X, y)"
      ],
      "execution_count": 0,
      "outputs": []
    }
  ]
}